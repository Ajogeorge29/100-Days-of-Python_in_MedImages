{
  "nbformat": 4,
  "nbformat_minor": 0,
  "metadata": {
    "colab": {
      "provenance": [],
      "gpuType": "T4",
      "include_colab_link": true
    },
    "kernelspec": {
      "name": "python3",
      "display_name": "Python 3"
    },
    "language_info": {
      "name": "python"
    },
    "accelerator": "GPU"
  },
  "cells": [
    {
      "cell_type": "markdown",
      "metadata": {
        "id": "view-in-github",
        "colab_type": "text"
      },
      "source": [
        "<a href=\"https://colab.research.google.com/github/Ajogeorge29/100-Days-of-Python_in_MedImages/blob/main/VolMaxSin.ipynb\" target=\"_parent\"><img src=\"https://colab.research.google.com/assets/colab-badge.svg\" alt=\"Open In Colab\"/></a>"
      ]
    },
    {
      "cell_type": "code",
      "execution_count": 1,
      "metadata": {
        "colab": {
          "base_uri": "https://localhost:8080/"
        },
        "id": "Yjqg4miPh0FR",
        "outputId": "98c02021-793c-4cd1-e724-b5f70db07300"
      },
      "outputs": [
        {
          "output_type": "stream",
          "name": "stdout",
          "text": [
            "Collecting SimpleITK\n",
            "  Downloading simpleitk-2.5.2-cp311-abi3-manylinux2014_x86_64.manylinux_2_17_x86_64.whl.metadata (7.2 kB)\n",
            "Downloading simpleitk-2.5.2-cp311-abi3-manylinux2014_x86_64.manylinux_2_17_x86_64.whl (52.6 MB)\n",
            "\u001b[2K   \u001b[90m━━━━━━━━━━━━━━━━━━━━━━━━━━━━━━━━━━━━━━━━\u001b[0m \u001b[32m52.6/52.6 MB\u001b[0m \u001b[31m17.6 MB/s\u001b[0m eta \u001b[36m0:00:00\u001b[0m\n",
            "\u001b[?25hInstalling collected packages: SimpleITK\n",
            "Successfully installed SimpleITK-2.5.2\n"
          ]
        }
      ],
      "source": [
        "!pip install SimpleITK"
      ]
    },
    {
      "cell_type": "code",
      "source": [
        "import SimpleITK as sitk\n",
        "import numpy as np\n",
        "\n",
        "def calculate_volumes(mask_path, spacing=None):\n",
        "    # Load the mask file\n",
        "    mask = sitk.ReadImage(mask_path)\n",
        "    mask_data = sitk.GetArrayFromImage(mask)\n",
        "\n",
        "    # Get voxel spacing (if not provided)\n",
        "    voxel_volume = np.prod(mask.GetSpacing()) if spacing is None else np.prod(spacing)\n",
        "\n",
        "    # Calculate volumes for each label\n",
        "    unique_labels = np.unique(mask_data)\n",
        "    volumes = {}\n",
        "    for label in unique_labels:\n",
        "        if label == 0:  # Skip background\n",
        "            continue\n",
        "        volume = np.sum(mask_data == label) * voxel_volume\n",
        "        volumes[label] = volume\n",
        "\n",
        "    return volumes\n",
        "\n",
        "# Usage\n",
        "mask_file = \"/content/STS25_Train_Labeled_0001_Masks (1).nii\"\n",
        "volumes = calculate_volumes(mask_file)\n",
        "for label, volume in volumes.items():\n",
        "    print(f\"Label {label}: Volume = {volume:.2f} mm³\")"
      ],
      "metadata": {
        "colab": {
          "base_uri": "https://localhost:8080/"
        },
        "id": "4qeDzy4BiD4e",
        "outputId": "7a9149be-9daf-4d0e-8924-044a7a4b9fab"
      },
      "execution_count": 3,
      "outputs": [
        {
          "output_type": "stream",
          "name": "stdout",
          "text": [
            "Label 1: Volume = 4976.64 mm³\n",
            "Label 2: Volume = 155.63 mm³\n",
            "Label 4: Volume = 11.77 mm³\n",
            "Label 5: Volume = 3.86 mm³\n",
            "Label 7: Volume = 4.43 mm³\n",
            "Label 8: Volume = 1.30 mm³\n",
            "Label 9: Volume = 8.96 mm³\n"
          ]
        }
      ]
    }
  ]
}